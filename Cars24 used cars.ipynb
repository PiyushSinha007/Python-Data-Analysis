{
 "cells": [
  {
   "cell_type": "code",
   "execution_count": 3,
   "id": "5084495b",
   "metadata": {},
   "outputs": [],
   "source": [
    "import pandas as pd\n",
    "import numpy as np\n",
    "import matplotlib.pyplot as plt\n",
    "import seaborn as sns\n"
   ]
  },
  {
   "cell_type": "code",
   "execution_count": 4,
   "id": "09af24c9",
   "metadata": {},
   "outputs": [],
   "source": [
    "df=pd.read_csv('/Users/piyushsinha/Downloads/archive/cars_24_combined.csv')"
   ]
  },
  {
   "cell_type": "code",
   "execution_count": 3,
   "id": "d0e51e52",
   "metadata": {},
   "outputs": [
    {
     "data": {
      "text/html": [
       "<div>\n",
       "<style scoped>\n",
       "    .dataframe tbody tr th:only-of-type {\n",
       "        vertical-align: middle;\n",
       "    }\n",
       "\n",
       "    .dataframe tbody tr th {\n",
       "        vertical-align: top;\n",
       "    }\n",
       "\n",
       "    .dataframe thead th {\n",
       "        text-align: right;\n",
       "    }\n",
       "</style>\n",
       "<table border=\"1\" class=\"dataframe\">\n",
       "  <thead>\n",
       "    <tr style=\"text-align: right;\">\n",
       "      <th></th>\n",
       "      <th>Unnamed: 0</th>\n",
       "      <th>Car Name</th>\n",
       "      <th>Year</th>\n",
       "      <th>Distance</th>\n",
       "      <th>Owner</th>\n",
       "      <th>Fuel</th>\n",
       "      <th>Location</th>\n",
       "      <th>Drive</th>\n",
       "      <th>Type</th>\n",
       "      <th>Price</th>\n",
       "    </tr>\n",
       "  </thead>\n",
       "  <tbody>\n",
       "    <tr>\n",
       "      <th>0</th>\n",
       "      <td>0</td>\n",
       "      <td>Maruti S PRESSO</td>\n",
       "      <td>2022.0</td>\n",
       "      <td>3878</td>\n",
       "      <td>1</td>\n",
       "      <td>PETROL</td>\n",
       "      <td>HR-98</td>\n",
       "      <td>Manual</td>\n",
       "      <td>HatchBack</td>\n",
       "      <td>514000</td>\n",
       "    </tr>\n",
       "    <tr>\n",
       "      <th>1</th>\n",
       "      <td>1</td>\n",
       "      <td>Hyundai Xcent</td>\n",
       "      <td>2018.0</td>\n",
       "      <td>32041</td>\n",
       "      <td>1</td>\n",
       "      <td>PETROL</td>\n",
       "      <td>TN-22</td>\n",
       "      <td>Manual</td>\n",
       "      <td>Sedan</td>\n",
       "      <td>674000</td>\n",
       "    </tr>\n",
       "    <tr>\n",
       "      <th>2</th>\n",
       "      <td>2</td>\n",
       "      <td>Tata Safari</td>\n",
       "      <td>2021.0</td>\n",
       "      <td>96339</td>\n",
       "      <td>1</td>\n",
       "      <td>DIESEL</td>\n",
       "      <td>TS-08</td>\n",
       "      <td>Automatic</td>\n",
       "      <td>SUV</td>\n",
       "      <td>1952000</td>\n",
       "    </tr>\n",
       "    <tr>\n",
       "      <th>3</th>\n",
       "      <td>3</td>\n",
       "      <td>Maruti Vitara Brezza</td>\n",
       "      <td>2019.0</td>\n",
       "      <td>51718</td>\n",
       "      <td>1</td>\n",
       "      <td>DIESEL</td>\n",
       "      <td>WB-24</td>\n",
       "      <td>Manual</td>\n",
       "      <td>SUV</td>\n",
       "      <td>690000</td>\n",
       "    </tr>\n",
       "    <tr>\n",
       "      <th>4</th>\n",
       "      <td>4</td>\n",
       "      <td>Tata Tiago</td>\n",
       "      <td>2021.0</td>\n",
       "      <td>19811</td>\n",
       "      <td>1</td>\n",
       "      <td>PETROL</td>\n",
       "      <td>HR-51</td>\n",
       "      <td>Manual</td>\n",
       "      <td>HatchBack</td>\n",
       "      <td>526000</td>\n",
       "    </tr>\n",
       "    <tr>\n",
       "      <th>5</th>\n",
       "      <td>5</td>\n",
       "      <td>Maruti Swift</td>\n",
       "      <td>2017.0</td>\n",
       "      <td>70129</td>\n",
       "      <td>1</td>\n",
       "      <td>PETROL</td>\n",
       "      <td>MH-14</td>\n",
       "      <td>Manual</td>\n",
       "      <td>HatchBack</td>\n",
       "      <td>552000</td>\n",
       "    </tr>\n",
       "    <tr>\n",
       "      <th>6</th>\n",
       "      <td>6</td>\n",
       "      <td>Hyundai i20</td>\n",
       "      <td>2012.0</td>\n",
       "      <td>103781</td>\n",
       "      <td>1</td>\n",
       "      <td>PETROL</td>\n",
       "      <td>NaN</td>\n",
       "      <td>Manual</td>\n",
       "      <td>HatchBack</td>\n",
       "      <td>278000</td>\n",
       "    </tr>\n",
       "    <tr>\n",
       "      <th>7</th>\n",
       "      <td>7</td>\n",
       "      <td>Renault Kwid</td>\n",
       "      <td>2021.0</td>\n",
       "      <td>31945</td>\n",
       "      <td>2</td>\n",
       "      <td>PETROL</td>\n",
       "      <td>UP-32</td>\n",
       "      <td>Automatic</td>\n",
       "      <td>HatchBack</td>\n",
       "      <td>518000</td>\n",
       "    </tr>\n",
       "    <tr>\n",
       "      <th>8</th>\n",
       "      <td>8</td>\n",
       "      <td>Hyundai Grand i10</td>\n",
       "      <td>2015.0</td>\n",
       "      <td>39950</td>\n",
       "      <td>1</td>\n",
       "      <td>PETROL</td>\n",
       "      <td>HR-26</td>\n",
       "      <td>Manual</td>\n",
       "      <td>HatchBack</td>\n",
       "      <td>443000</td>\n",
       "    </tr>\n",
       "    <tr>\n",
       "      <th>9</th>\n",
       "      <td>9</td>\n",
       "      <td>Maruti Swift</td>\n",
       "      <td>2018.0</td>\n",
       "      <td>56697</td>\n",
       "      <td>1</td>\n",
       "      <td>DIESEL</td>\n",
       "      <td>KA-04</td>\n",
       "      <td>Automatic</td>\n",
       "      <td>HatchBack</td>\n",
       "      <td>710350</td>\n",
       "    </tr>\n",
       "  </tbody>\n",
       "</table>\n",
       "</div>"
      ],
      "text/plain": [
       "   Unnamed: 0              Car Name    Year  Distance  Owner    Fuel Location  \\\n",
       "0           0       Maruti S PRESSO  2022.0      3878      1  PETROL    HR-98   \n",
       "1           1         Hyundai Xcent  2018.0     32041      1  PETROL    TN-22   \n",
       "2           2           Tata Safari  2021.0     96339      1  DIESEL    TS-08   \n",
       "3           3  Maruti Vitara Brezza  2019.0     51718      1  DIESEL    WB-24   \n",
       "4           4            Tata Tiago  2021.0     19811      1  PETROL    HR-51   \n",
       "5           5          Maruti Swift  2017.0     70129      1  PETROL    MH-14   \n",
       "6           6           Hyundai i20  2012.0    103781      1  PETROL      NaN   \n",
       "7           7          Renault Kwid  2021.0     31945      2  PETROL    UP-32   \n",
       "8           8     Hyundai Grand i10  2015.0     39950      1  PETROL    HR-26   \n",
       "9           9          Maruti Swift  2018.0     56697      1  DIESEL    KA-04   \n",
       "\n",
       "       Drive       Type    Price  \n",
       "0     Manual  HatchBack   514000  \n",
       "1     Manual      Sedan   674000  \n",
       "2  Automatic        SUV  1952000  \n",
       "3     Manual        SUV   690000  \n",
       "4     Manual  HatchBack   526000  \n",
       "5     Manual  HatchBack   552000  \n",
       "6     Manual  HatchBack   278000  \n",
       "7  Automatic  HatchBack   518000  \n",
       "8     Manual  HatchBack   443000  \n",
       "9  Automatic  HatchBack   710350  "
      ]
     },
     "execution_count": 3,
     "metadata": {},
     "output_type": "execute_result"
    }
   ],
   "source": [
    "df.head(10)"
   ]
  },
  {
   "cell_type": "code",
   "execution_count": 4,
   "id": "e4898f4b",
   "metadata": {},
   "outputs": [
    {
     "data": {
      "text/html": [
       "<div>\n",
       "<style scoped>\n",
       "    .dataframe tbody tr th:only-of-type {\n",
       "        vertical-align: middle;\n",
       "    }\n",
       "\n",
       "    .dataframe tbody tr th {\n",
       "        vertical-align: top;\n",
       "    }\n",
       "\n",
       "    .dataframe thead th {\n",
       "        text-align: right;\n",
       "    }\n",
       "</style>\n",
       "<table border=\"1\" class=\"dataframe\">\n",
       "  <thead>\n",
       "    <tr style=\"text-align: right;\">\n",
       "      <th></th>\n",
       "      <th>Unnamed: 0</th>\n",
       "      <th>Car Name</th>\n",
       "      <th>Year</th>\n",
       "      <th>Distance</th>\n",
       "      <th>Owner</th>\n",
       "      <th>Fuel</th>\n",
       "      <th>Location</th>\n",
       "      <th>Drive</th>\n",
       "      <th>Type</th>\n",
       "      <th>Price</th>\n",
       "    </tr>\n",
       "  </thead>\n",
       "  <tbody>\n",
       "    <tr>\n",
       "      <th>8010</th>\n",
       "      <td>8010</td>\n",
       "      <td>Datsun Redi Go</td>\n",
       "      <td>2018.0</td>\n",
       "      <td>11500</td>\n",
       "      <td>1</td>\n",
       "      <td>PETROL</td>\n",
       "      <td>MH-01</td>\n",
       "      <td>Manual</td>\n",
       "      <td>HatchBack</td>\n",
       "      <td>292000</td>\n",
       "    </tr>\n",
       "    <tr>\n",
       "      <th>8011</th>\n",
       "      <td>8011</td>\n",
       "      <td>Toyota YARIS</td>\n",
       "      <td>2018.0</td>\n",
       "      <td>73393</td>\n",
       "      <td>2</td>\n",
       "      <td>PETROL</td>\n",
       "      <td>KA-03</td>\n",
       "      <td>Manual</td>\n",
       "      <td>Sedan</td>\n",
       "      <td>534000</td>\n",
       "    </tr>\n",
       "    <tr>\n",
       "      <th>8012</th>\n",
       "      <td>8012</td>\n",
       "      <td>Volkswagen Ameo</td>\n",
       "      <td>2016.0</td>\n",
       "      <td>83810</td>\n",
       "      <td>2</td>\n",
       "      <td>PETROL</td>\n",
       "      <td>UP-78</td>\n",
       "      <td>Manual</td>\n",
       "      <td>Sedan</td>\n",
       "      <td>424000</td>\n",
       "    </tr>\n",
       "    <tr>\n",
       "      <th>8013</th>\n",
       "      <td>8013</td>\n",
       "      <td>Hyundai GRAND I10 NIOS</td>\n",
       "      <td>2019.0</td>\n",
       "      <td>39162</td>\n",
       "      <td>1</td>\n",
       "      <td>PETROL</td>\n",
       "      <td>CH-01</td>\n",
       "      <td>Automatic</td>\n",
       "      <td>HatchBack</td>\n",
       "      <td>685000</td>\n",
       "    </tr>\n",
       "    <tr>\n",
       "      <th>8014</th>\n",
       "      <td>8014</td>\n",
       "      <td>Tata TIGOR</td>\n",
       "      <td>2022.0</td>\n",
       "      <td>82009</td>\n",
       "      <td>2</td>\n",
       "      <td>PETROL</td>\n",
       "      <td>MH-02</td>\n",
       "      <td>Manual</td>\n",
       "      <td>Sedan</td>\n",
       "      <td>392000</td>\n",
       "    </tr>\n",
       "  </tbody>\n",
       "</table>\n",
       "</div>"
      ],
      "text/plain": [
       "      Unnamed: 0                Car Name    Year  Distance  Owner    Fuel  \\\n",
       "8010        8010          Datsun Redi Go  2018.0     11500      1  PETROL   \n",
       "8011        8011            Toyota YARIS  2018.0     73393      2  PETROL   \n",
       "8012        8012         Volkswagen Ameo  2016.0     83810      2  PETROL   \n",
       "8013        8013  Hyundai GRAND I10 NIOS  2019.0     39162      1  PETROL   \n",
       "8014        8014              Tata TIGOR  2022.0     82009      2  PETROL   \n",
       "\n",
       "     Location      Drive       Type   Price  \n",
       "8010    MH-01     Manual  HatchBack  292000  \n",
       "8011    KA-03     Manual      Sedan  534000  \n",
       "8012    UP-78     Manual      Sedan  424000  \n",
       "8013    CH-01  Automatic  HatchBack  685000  \n",
       "8014    MH-02     Manual      Sedan  392000  "
      ]
     },
     "execution_count": 4,
     "metadata": {},
     "output_type": "execute_result"
    }
   ],
   "source": [
    "df.tail()"
   ]
  },
  {
   "cell_type": "code",
   "execution_count": 5,
   "id": "7295f1a0",
   "metadata": {},
   "outputs": [
    {
     "data": {
      "text/plain": [
       "0"
      ]
     },
     "execution_count": 5,
     "metadata": {},
     "output_type": "execute_result"
    }
   ],
   "source": [
    "df.duplicated().sum()"
   ]
  },
  {
   "cell_type": "code",
   "execution_count": 8,
   "id": "cc88d86b",
   "metadata": {},
   "outputs": [
    {
     "data": {
      "text/plain": [
       "Unnamed: 0      0\n",
       "Car Name        1\n",
       "Year            1\n",
       "Distance        0\n",
       "Owner           0\n",
       "Fuel            0\n",
       "Location      213\n",
       "Drive           0\n",
       "Type            0\n",
       "Price           0\n",
       "dtype: int64"
      ]
     },
     "execution_count": 8,
     "metadata": {},
     "output_type": "execute_result"
    }
   ],
   "source": [
    "df.isna().sum()"
   ]
  },
  {
   "cell_type": "code",
   "execution_count": 10,
   "id": "c46fb716",
   "metadata": {},
   "outputs": [],
   "source": [
    "df.dropna(inplace=True)"
   ]
  },
  {
   "cell_type": "code",
   "execution_count": 11,
   "id": "f0efabd0",
   "metadata": {},
   "outputs": [
    {
     "data": {
      "text/plain": [
       "Unnamed: 0    0\n",
       "Car Name      0\n",
       "Year          0\n",
       "Distance      0\n",
       "Owner         0\n",
       "Fuel          0\n",
       "Location      0\n",
       "Drive         0\n",
       "Type          0\n",
       "Price         0\n",
       "dtype: int64"
      ]
     },
     "execution_count": 11,
     "metadata": {},
     "output_type": "execute_result"
    }
   ],
   "source": [
    "df.isna().sum()"
   ]
  },
  {
   "cell_type": "code",
   "execution_count": 12,
   "id": "e95f720f",
   "metadata": {},
   "outputs": [
    {
     "data": {
      "text/html": [
       "<div>\n",
       "<style scoped>\n",
       "    .dataframe tbody tr th:only-of-type {\n",
       "        vertical-align: middle;\n",
       "    }\n",
       "\n",
       "    .dataframe tbody tr th {\n",
       "        vertical-align: top;\n",
       "    }\n",
       "\n",
       "    .dataframe thead th {\n",
       "        text-align: right;\n",
       "    }\n",
       "</style>\n",
       "<table border=\"1\" class=\"dataframe\">\n",
       "  <thead>\n",
       "    <tr style=\"text-align: right;\">\n",
       "      <th></th>\n",
       "      <th>Unnamed: 0</th>\n",
       "      <th>Year</th>\n",
       "      <th>Distance</th>\n",
       "      <th>Owner</th>\n",
       "      <th>Price</th>\n",
       "    </tr>\n",
       "  </thead>\n",
       "  <tbody>\n",
       "    <tr>\n",
       "      <th>count</th>\n",
       "      <td>7801.000000</td>\n",
       "      <td>7801.000000</td>\n",
       "      <td>7801.000000</td>\n",
       "      <td>7801.000000</td>\n",
       "      <td>7.801000e+03</td>\n",
       "    </tr>\n",
       "    <tr>\n",
       "      <th>mean</th>\n",
       "      <td>4008.152032</td>\n",
       "      <td>2017.043584</td>\n",
       "      <td>50936.111524</td>\n",
       "      <td>1.298936</td>\n",
       "      <td>5.787559e+05</td>\n",
       "    </tr>\n",
       "    <tr>\n",
       "      <th>std</th>\n",
       "      <td>2315.983985</td>\n",
       "      <td>2.847698</td>\n",
       "      <td>25866.884915</td>\n",
       "      <td>0.510013</td>\n",
       "      <td>2.661326e+05</td>\n",
       "    </tr>\n",
       "    <tr>\n",
       "      <th>min</th>\n",
       "      <td>0.000000</td>\n",
       "      <td>2010.000000</td>\n",
       "      <td>0.000000</td>\n",
       "      <td>1.000000</td>\n",
       "      <td>1.190000e+05</td>\n",
       "    </tr>\n",
       "    <tr>\n",
       "      <th>25%</th>\n",
       "      <td>2000.000000</td>\n",
       "      <td>2015.000000</td>\n",
       "      <td>30198.000000</td>\n",
       "      <td>1.000000</td>\n",
       "      <td>3.960000e+05</td>\n",
       "    </tr>\n",
       "    <tr>\n",
       "      <th>50%</th>\n",
       "      <td>4004.000000</td>\n",
       "      <td>2017.000000</td>\n",
       "      <td>49245.000000</td>\n",
       "      <td>1.000000</td>\n",
       "      <td>5.380000e+05</td>\n",
       "    </tr>\n",
       "    <tr>\n",
       "      <th>75%</th>\n",
       "      <td>6019.000000</td>\n",
       "      <td>2019.000000</td>\n",
       "      <td>69981.000000</td>\n",
       "      <td>2.000000</td>\n",
       "      <td>7.020000e+05</td>\n",
       "    </tr>\n",
       "    <tr>\n",
       "      <th>max</th>\n",
       "      <td>8014.000000</td>\n",
       "      <td>2023.000000</td>\n",
       "      <td>153870.000000</td>\n",
       "      <td>4.000000</td>\n",
       "      <td>3.300000e+06</td>\n",
       "    </tr>\n",
       "  </tbody>\n",
       "</table>\n",
       "</div>"
      ],
      "text/plain": [
       "        Unnamed: 0         Year       Distance        Owner         Price\n",
       "count  7801.000000  7801.000000    7801.000000  7801.000000  7.801000e+03\n",
       "mean   4008.152032  2017.043584   50936.111524     1.298936  5.787559e+05\n",
       "std    2315.983985     2.847698   25866.884915     0.510013  2.661326e+05\n",
       "min       0.000000  2010.000000       0.000000     1.000000  1.190000e+05\n",
       "25%    2000.000000  2015.000000   30198.000000     1.000000  3.960000e+05\n",
       "50%    4004.000000  2017.000000   49245.000000     1.000000  5.380000e+05\n",
       "75%    6019.000000  2019.000000   69981.000000     2.000000  7.020000e+05\n",
       "max    8014.000000  2023.000000  153870.000000     4.000000  3.300000e+06"
      ]
     },
     "execution_count": 12,
     "metadata": {},
     "output_type": "execute_result"
    }
   ],
   "source": [
    "df.describe()"
   ]
  },
  {
   "cell_type": "code",
   "execution_count": 14,
   "id": "c2b83119",
   "metadata": {},
   "outputs": [
    {
     "name": "stdout",
     "output_type": "stream",
     "text": [
      "<class 'pandas.core.frame.DataFrame'>\n",
      "Int64Index: 7801 entries, 0 to 8014\n",
      "Data columns (total 10 columns):\n",
      " #   Column      Non-Null Count  Dtype  \n",
      "---  ------      --------------  -----  \n",
      " 0   Unnamed: 0  7801 non-null   int64  \n",
      " 1   Car Name    7801 non-null   object \n",
      " 2   Year        7801 non-null   float64\n",
      " 3   Distance    7801 non-null   int64  \n",
      " 4   Owner       7801 non-null   int64  \n",
      " 5   Fuel        7801 non-null   object \n",
      " 6   Location    7801 non-null   object \n",
      " 7   Drive       7801 non-null   object \n",
      " 8   Type        7801 non-null   object \n",
      " 9   Price       7801 non-null   int64  \n",
      "dtypes: float64(1), int64(4), object(5)\n",
      "memory usage: 670.4+ KB\n"
     ]
    }
   ],
   "source": [
    "df.info()"
   ]
  },
  {
   "cell_type": "code",
   "execution_count": 15,
   "id": "302c4316",
   "metadata": {},
   "outputs": [
    {
     "data": {
      "text/plain": [
       "2018.0    1183\n",
       "2017.0    1122\n",
       "2019.0     998\n",
       "2016.0     871\n",
       "2021.0     680\n",
       "2020.0     608\n",
       "2015.0     595\n",
       "2014.0     515\n",
       "2013.0     334\n",
       "2012.0     276\n",
       "2022.0     255\n",
       "2011.0     199\n",
       "2010.0     164\n",
       "2023.0       1\n",
       "Name: Year, dtype: int64"
      ]
     },
     "execution_count": 15,
     "metadata": {},
     "output_type": "execute_result"
    }
   ],
   "source": [
    "df[\"Year\"].value_counts ()"
   ]
  },
  {
   "cell_type": "code",
   "execution_count": 16,
   "id": "f73104ae",
   "metadata": {},
   "outputs": [
    {
     "data": {
      "text/plain": [
       "PETROL    6199\n",
       "DIESEL    1066\n",
       "CNG        535\n",
       "LPG          1\n",
       "Name: Fuel, dtype: int64"
      ]
     },
     "execution_count": 16,
     "metadata": {},
     "output_type": "execute_result"
    }
   ],
   "source": [
    "df[\"Fuel\"].value_counts ()"
   ]
  },
  {
   "cell_type": "code",
   "execution_count": 18,
   "id": "a9676d39",
   "metadata": {},
   "outputs": [
    {
     "data": {
      "text/plain": [
       "HatchBack    4952\n",
       "Sedan        1557\n",
       "SUV          1155\n",
       "Lux_SUV        80\n",
       "Lux_sedan      57\n",
       "Name: Type, dtype: int64"
      ]
     },
     "execution_count": 18,
     "metadata": {},
     "output_type": "execute_result"
    }
   ],
   "source": [
    "df[\"Type\"].value_counts ()"
   ]
  },
  {
   "cell_type": "code",
   "execution_count": 20,
   "id": "749dab0f",
   "metadata": {},
   "outputs": [
    {
     "data": {
      "text/plain": [
       "Manual       6271\n",
       "Automatic    1530\n",
       "Name: Drive, dtype: int64"
      ]
     },
     "execution_count": 20,
     "metadata": {},
     "output_type": "execute_result"
    }
   ],
   "source": [
    "df[\"Drive\"].value_counts ()"
   ]
  },
  {
   "cell_type": "code",
   "execution_count": 21,
   "id": "4decb7b5",
   "metadata": {},
   "outputs": [
    {
     "data": {
      "text/plain": [
       "1    5665\n",
       "2    1941\n",
       "3     194\n",
       "4       1\n",
       "Name: Owner, dtype: int64"
      ]
     },
     "execution_count": 21,
     "metadata": {},
     "output_type": "execute_result"
    }
   ],
   "source": [
    "df[\"Owner\"].value_counts ()"
   ]
  },
  {
   "cell_type": "code",
   "execution_count": 5,
   "id": "18e5fd7d",
   "metadata": {},
   "outputs": [
    {
     "data": {
      "text/plain": [
       "<matplotlib.lines.Line2D at 0x15009baf0>"
      ]
     },
     "execution_count": 5,
     "metadata": {},
     "output_type": "execute_result"
    },
    {
     "data": {
      "image/png": "[encoded data removed]",
      "text/plain": [
       "<Figure size 640x480 with 1 Axes>"
      ]
     },
     "metadata": {},
     "output_type": "display_data"
    }
   ],
   "source": [
    "average_distance = df['Distance'].mean()\n",
    "\n",
    "plt.bar(df[\"Owner\"],df[\"Distance\"])\n",
    "plt.xlabel (\"Owner\")\n",
    "plt.ylabel(\"Distance\")\n",
    "plt.title('Average of vehicle driven before selling')\n",
    "\n",
    "plt.axhline(average_distance, color='black', linestyle='--', label='Average Distance')\n"
   ]
  },
  {
   "cell_type": "code",
   "execution_count": 32,
   "id": "d0b95ee1",
   "metadata": {},
   "outputs": [
    {
     "data": {
      "image/png": "[encoded data removed]",
      "text/plain": [
       "<Figure size 800x600 with 1 Axes>"
      ]
     },
     "metadata": {},
     "output_type": "display_data"
    }
   ],
   "source": [
    "category_counts = df['Owner'].value_counts()\n",
    "category_percentages = category_counts / category_counts.sum() * 100\n",
    "\n",
    "# Plotting the pie chart\n",
    "plt.figure(figsize=(8, 6))  # Adjust the figure size if needed\n",
    "plt.pie(category_percentages, labels=category_percentages.index, autopct='%1.1f%%')\n",
    "\n",
    "plt.title('Category Distribution of Car Ownership')\n",
    "\n",
    "plt.axis('equal')  # Ensure pie is drawn as a circle\n",
    "plt.show()"
   ]
  },
  {
   "cell_type": "code",
   "execution_count": 13,
   "id": "76d5baef",
   "metadata": {},
   "outputs": [
    {
     "data": {
      "image/png": "[encoded data removed]",
      "text/plain": [
       "<Figure size 700x300 with 1 Axes>"
      ]
     },
     "metadata": {},
     "output_type": "display_data"
    }
   ],
   "source": [
    "category_counts = df['Fuel'].value_counts()\n",
    "category_percentages = category_counts / category_counts.sum() * 100\n",
    "category_percentages = category_percentages.sort_index()\n",
    "plt.figure(figsize=(7, 3)) \n",
    "plt.plot(category_percentages.index, category_percentages, marker='o')\n",
    "plt.xlabel('Fuel Type')\n",
    "plt.ylabel('Percentage')\n",
    "plt.title('Percentage of Type of Fuel Cars being sold')\n",
    "plt.grid(True)\n",
    "plt.show()\n"
   ]
  },
  {
   "cell_type": "code",
   "execution_count": 76,
   "id": "c7d21876",
   "metadata": {},
   "outputs": [
    {
     "data": {
      "text/plain": [
       "<matplotlib.legend.Legend at 0x29bff9e70>"
      ]
     },
     "execution_count": 76,
     "metadata": {},
     "output_type": "execute_result"
    },
    {
     "data": {
      "image/png": "[encoded data removed]",
      "text/plain": [
       "<Figure size 640x480 with 1 Axes>"
      ]
     },
     "metadata": {},
     "output_type": "display_data"
    }
   ],
   "source": [
    "sns.barplot(x=\"Fuel\",  y=\"Price\", data =df, hue=\"Type\")\n",
    "plt.legend(bbox_to_anchor=(1, 1), loc='upper right', ncol=1)\n"
   ]
  },
  {
   "cell_type": "code",
   "execution_count": 77,
   "id": "856e1880",
   "metadata": {},
   "outputs": [
    {
     "data": {
      "text/plain": [
       "Text(0.5, 1.0, 'Average distance traveled by cars before selling by type of cars')"
      ]
     },
     "execution_count": 77,
     "metadata": {},
     "output_type": "execute_result"
    },
    {
     "data": {
      "image/png": "[encoded data removed]",
      "text/plain": [
       "<Figure size 640x480 with 1 Axes>"
      ]
     },
     "metadata": {},
     "output_type": "display_data"
    }
   ],
   "source": [
    "average_distance = df['Distance'].mean()\n",
    "sns.barplot(x=\"Drive\",  y=\"Distance\", data =df, hue=\"Type\")\n",
    "plt.axhline(average_distance, color='black', linestyle='--', label='Average Distance')\n",
    "plt.legend(bbox_to_anchor=(1, 1), loc='upper right', ncol=1)\n",
    "plt.title('Average distance traveled by cars before selling by type of cars')\n"
   ]
  }
 ],
 "metadata": {
  "kernelspec": {
   "display_name": "Python 3 (ipykernel)",
   "language": "python",
   "name": "python3"
  },
  "language_info": {
   "codemirror_mode": {
    "name": "ipython",
    "version": 3
   },
   "file_extension": ".py",
   "mimetype": "text/x-python",
   "name": "python",
   "nbconvert_exporter": "python",
   "pygments_lexer": "ipython3",
   "version": "3.10.9"
  }
 },
 "nbformat": 4,
 "nbformat_minor": 5
}
